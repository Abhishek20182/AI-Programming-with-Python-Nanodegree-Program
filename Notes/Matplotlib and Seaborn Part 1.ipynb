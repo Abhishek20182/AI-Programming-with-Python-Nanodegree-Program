{
 "cells": [
  {
   "cell_type": "markdown",
   "metadata": {},
   "source": [
    "## What is Tidy Data?\n",
    "\n",
    "In this course, it is expected that your data is organized in some kind of tidy format. In short, a [tidy dataset](https://cran.r-project.org/web/packages/tidyr/vignettes/tidy-data.html) is a tabular dataset where:\n",
    "\n",
    "   1.each variable is a column<br>\n",
    "   2.each observation is a row<br>\n",
    "   3.each type of observational unit is a table\n",
    "\n",
    "The first three images below depict a tidy dataset. This tidy dataset is in the field of healthcare and has two tables: one for patients (with their patient ID, name, and age) and one for treatments (with patient ID, what drug that patient is taking, and the dose of that drug).\n",
    "An image of two tables (patients and treatments) with all of the individual columns highlighted\n",
    "\n",
    "\n",
    "<img src=\"https://video.udacity-data.com/topher/2018/January/5a6278e8_tidy-data-one/tidy-data-one.png\" width=500px>\n",
    "\n",
    "<center>Each variable in a tidy dataset must have its own colum </center>\n",
    "\n",
    "\n",
    "<img src=\"https://video.udacity-data.com/topher/2018/January/5a6278ea_tidy-data-two/tidy-data-two.png\" width=500px>\n",
    "\n",
    "<center>Each observation in a tidy dataset must have its own row</center>\n",
    "\n",
    "<img src=\"https://video.udacity-data.com/topher/2018/January/5a6278ec_tidy-data-three/tidy-data-three.png\" width=500px>\n",
    "\n",
    "<center>Each observational unit in a tidy dataset must have its own table</center>\n",
    "\n",
    "\n",
    "The next image depicts the same data but in one representation of a non-tidy format (there are other possible non-tidy representations). The Drug A, Drug B, and Drug C columns should form one 'Drug' column, since this is one variable. The entire table should be separated into two tables: a patients table and a treatments table.\n",
    "\n",
    "<img src=\"https://video.udacity-data.com/topher/2018/January/5a6278e7_tidy-data-four/tidy-data-four.png\" width=500px>\n",
    "<center>Only the second rule of tidy data is satisfied in this non-tidy representation of the above data: each observation forms a row</center>\n",
    "\n",
    "While the data provided to you in the course will all be tidy, in practice, you may need to perform tidying work before exploration. You should be comfortable with reshaping your data or perform transformations to split or combine features in your data, resulting in new data columns. This work should be performed in the wrangling stage of the data analysis process, so if you need to know more about these operations, it is recommended that you refer back to the data wrangling content from earlier in the program.\n",
    "\n",
    "This is also not to say that tidy data is the only useful form that data can take. In fact, as you work with a dataset, you might need to summarize it in a non-tidy form in order to generate appropriate visualizations. You'll see one example of this in the bivariate plotting lesson, where categorical counts need to put into a matrix form in order to create a heat map.\n"
   ]
  }
 ],
 "metadata": {
  "kernelspec": {
   "display_name": "Python 3",
   "language": "python",
   "name": "python3"
  },
  "language_info": {
   "codemirror_mode": {
    "name": "ipython",
    "version": 3
   },
   "file_extension": ".py",
   "mimetype": "text/x-python",
   "name": "python",
   "nbconvert_exporter": "python",
   "pygments_lexer": "ipython3",
   "version": "3.8.2"
  }
 },
 "nbformat": 4,
 "nbformat_minor": 4
}
